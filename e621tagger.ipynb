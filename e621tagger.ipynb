{
  "cells": [
    {
      "cell_type": "markdown",
      "source": [
        "# 1. Clone the repo"
      ],
      "metadata": {
        "id": "c3xz840SzpSx"
      }
    },
    {
      "cell_type": "code",
      "source": [
        "print(\"Installing Git LFS...\")\n",
        "!apt-get install git-lfs > /dev/null\n",
        "!git lfs install\n",
        "print(\"\\nCloning the repository...\")\n",
        "!git clone https://github.com/litsa-the-dancer/e621.net-tagger.git\n",
        "print(\"\\nClone complete!\")"
      ],
      "metadata": {
        "id": "Pm-pkf8FPCxL"
      },
      "execution_count": null,
      "outputs": []
    },
    {
      "cell_type": "markdown",
      "source": [
        "# 2. Install dependencies"
      ],
      "metadata": {
        "id": "PeJoUbrk0HT7"
      }
    },
    {
      "cell_type": "code",
      "source": [
        "%cd e621.net-tagger\n",
        "print(\"Installing dependencies...\")\n",
        "!pip install -q -r requirements.txt\n",
        "print(\"Dependencies installed!\")"
      ],
      "metadata": {
        "id": "AJAqFLW-PDkJ"
      },
      "execution_count": null,
      "outputs": []
    },
    {
      "cell_type": "markdown",
      "source": [
        "# 3. Launch the GUI"
      ],
      "metadata": {
        "id": "Qa-Bgts60Lb1"
      }
    },
    {
      "cell_type": "code",
      "source": [
        "print(\"Launching the Gradio application...\")\n",
        "!python app.py --share"
      ],
      "metadata": {
        "id": "kdzlKc6OPTln"
      },
      "execution_count": null,
      "outputs": []
    }
  ],
  "metadata": {
    "accelerator": "GPU",
    "colab": {
      "provenance": [],
      "collapsed_sections": [
        "g83HiPS2mSqJ"
      ]
    },
    "kernelspec": {
      "display_name": "Python 3",
      "name": "python3"
    },
    "language_info": {
      "name": "python"
    }
  },
  "nbformat": 4,
  "nbformat_minor": 0
}